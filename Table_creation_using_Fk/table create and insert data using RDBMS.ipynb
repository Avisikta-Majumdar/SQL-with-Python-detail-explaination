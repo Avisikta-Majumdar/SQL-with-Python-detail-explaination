{
 "cells": [
  {
   "cell_type": "code",
   "execution_count": 1,
   "metadata": {},
   "outputs": [],
   "source": [
    "import sqlite3\n",
    "from raw_sql_queries import (\n",
    "    sql_for_departments_table, sql_for_employees_table,\n",
    "    sql_for_customers_table, sql_for_cars_table\n",
    ")"
   ]
  },
  {
   "cell_type": "code",
   "execution_count": 2,
   "metadata": {},
   "outputs": [],
   "source": [
    "class CreateDatabaseAndTables:\n",
    "    \"\"\"\n",
    "    class for creating database and tables for Auto shop Database\n",
    "    \"\"\"\n",
    "    def __init__(self):\n",
    "        \"\"\"\n",
    "        assigning sql quiers to this class and creating sqlite3 databse\n",
    "        \"\"\"\n",
    "        self.sql_for_departments_table = sql_for_departments_table\n",
    "        self.sql_for_employees_table = sql_for_employees_table\n",
    "        self.sql_for_customers_table = sql_for_customers_table\n",
    "        self.sql_for_cars_table = sql_for_cars_table\n",
    "        try:\n",
    "            self.conn = sqlite3.connect(\"dummyDB.db\")\n",
    "            self.cur = self.conn.cursor()\n",
    "            self.conn.commit()\n",
    "        except Exception as e:\n",
    "            print(e)\n",
    "        finally:\n",
    "            self.conn.close()\n",
    "            \n",
    "    def get_connection(self):\n",
    "        \"\"\"\n",
    "        function for creating connection to the db\n",
    "        \"\"\"\n",
    "        self.conn = sqlite3.connect(\"dummyDB.db\")\n",
    "        self.cur = self.conn.cursor()\n",
    "    \n",
    "    def create_table(self, query):\n",
    "        \"\"\"\n",
    "        function for creating table \n",
    "        \"\"\"\n",
    "        try:\n",
    "            self.get_connection()\n",
    "            self.cur.execute(query)\n",
    "            self.conn.commit()\n",
    "            print(\"Table created successfully\")\n",
    "        except Exception as e:\n",
    "            print(e)\n",
    "        finally:\n",
    "            self.conn.close()\n",
    "            \n",
    "    def insert_data_table(self, db_query):\n",
    "        \"\"\"\n",
    "        function for insterting data into the table\n",
    "        \"\"\"\n",
    "        try:\n",
    "            self.get_connection()\n",
    "            self.cur.execute(db_query)\n",
    "            self.conn.commit()\n",
    "            print(\"Data inserted successfully\")\n",
    "        except Exception as e:\n",
    "            print(e)\n",
    "        finally:\n",
    "            self.conn.close()\n",
    "            \n",
    "    def create_department_table(self):\n",
    "        self.create_table(self.sql_for_departments_table)\n",
    "        \n",
    "    def create_employes_table(self):\n",
    "        self.create_table(self.sql_for_employees_table)\n",
    "            \n",
    "    def create_customers_table(self):\n",
    "        self.create_table(self.sql_for_customers_table)\n",
    "            \n",
    "    def create_cars_table(self):\n",
    "        self.create_table(self.sql_for_cars_table)\n"
   ]
  },
  {
   "cell_type": "code",
   "execution_count": 3,
   "metadata": {},
   "outputs": [],
   "source": [
    "# creating object from a class\n",
    "data = CreateDatabaseAndTables()"
   ]
  },
  {
   "cell_type": "code",
   "execution_count": 4,
   "metadata": {},
   "outputs": [
    {
     "name": "stdout",
     "output_type": "stream",
     "text": [
      "Table created successfully\n"
     ]
    }
   ],
   "source": [
    "# creating department table with the help of raw SQL query\n",
    "data.create_department_table()"
   ]
  },
  {
   "cell_type": "code",
   "execution_count": 5,
   "metadata": {},
   "outputs": [
    {
     "name": "stdout",
     "output_type": "stream",
     "text": [
      "Table created successfully\n"
     ]
    }
   ],
   "source": [
    "# creating employee table with the help of raw SQL query\n",
    "data.create_employes_table()"
   ]
  },
  {
   "cell_type": "code",
   "execution_count": 6,
   "metadata": {},
   "outputs": [
    {
     "name": "stdout",
     "output_type": "stream",
     "text": [
      "Table created successfully\n"
     ]
    }
   ],
   "source": [
    "# creating customer table with the help of raw SQL query\n",
    "\n",
    "data.create_customers_table()"
   ]
  },
  {
   "cell_type": "code",
   "execution_count": 7,
   "metadata": {},
   "outputs": [
    {
     "name": "stdout",
     "output_type": "stream",
     "text": [
      "Table created successfully\n"
     ]
    }
   ],
   "source": [
    "# creating cars table with the help of raw SQL query\n",
    "\n",
    "data.create_cars_table()"
   ]
  },
  {
   "cell_type": "markdown",
   "metadata": {},
   "source": [
    "## insert data in tables"
   ]
  },
  {
   "cell_type": "code",
   "execution_count": 8,
   "metadata": {},
   "outputs": [],
   "source": [
    "# sql query for insterting data in Department table\n",
    "data_for_hr_table = \"\"\"\n",
    "                    INSERT INTO Departments ('id', 'Name') VALUES (1, 'HR'), (2, 'Sales'), (3, \"Tech\")\n",
    "                    \"\"\"\n"
   ]
  },
  {
   "cell_type": "code",
   "execution_count": 9,
   "metadata": {},
   "outputs": [],
   "source": [
    "# sql query for insterting data in Employees table\n",
    "\n",
    "data_for_employee_table = \"\"\"\n",
    "                          INSERT INTO Employees ('id', 'Fname', 'Lname', 'phone',\n",
    "                                                  'ManagerId', 'DepartmentId', 'Salary', 'HireDate')\n",
    "                          \n",
    "                          VALUES \n",
    "                          \n",
    "                          (1, 'Rajat', 'Sharma', 7508860012, NULL, 3, 100, '23-12-2020'),\n",
    "                          (2, 'Rks', 'Singh', 7544444444, NULL, 1, 10, '22-12-2020');\n",
    "                          \"\"\""
   ]
  },
  {
   "cell_type": "code",
   "execution_count": 10,
   "metadata": {},
   "outputs": [
    {
     "name": "stdout",
     "output_type": "stream",
     "text": [
      "Data inserted successfully\n"
     ]
    }
   ],
   "source": [
    "data.insert_data_table(data_for_hr_table)"
   ]
  },
  {
   "cell_type": "code",
   "execution_count": 11,
   "metadata": {},
   "outputs": [
    {
     "name": "stdout",
     "output_type": "stream",
     "text": [
      "Data inserted successfully\n"
     ]
    }
   ],
   "source": [
    "data.insert_data_table(data_for_employee_table)"
   ]
  }
 ],
 "metadata": {
  "kernelspec": {
   "display_name": "Python 3",
   "language": "python",
   "name": "python3"
  },
  "language_info": {
   "codemirror_mode": {
    "name": "ipython",
    "version": 3
   },
   "file_extension": ".py",
   "mimetype": "text/x-python",
   "name": "python",
   "nbconvert_exporter": "python",
   "pygments_lexer": "ipython3",
   "version": "3.6.9"
  }
 },
 "nbformat": 4,
 "nbformat_minor": 4
}
