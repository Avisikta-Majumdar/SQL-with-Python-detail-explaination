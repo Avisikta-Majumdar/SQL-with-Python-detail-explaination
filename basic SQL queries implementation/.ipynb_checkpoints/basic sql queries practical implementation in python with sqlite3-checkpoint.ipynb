{
 "cells": [
  {
   "cell_type": "code",
   "execution_count": 1,
   "metadata": {},
   "outputs": [],
   "source": [
    "import sqlite3"
   ]
  },
  {
   "cell_type": "code",
   "execution_count": 90,
   "metadata": {},
   "outputs": [],
   "source": [
    "class BasicSqlOperations:\n",
    "    \"\"\"\n",
    "    class for connecting to db and performing CRUD operations using sql cmd's\n",
    "    \"\"\"\n",
    "            \n",
    "    def get_connection(self):\n",
    "        \"\"\"\n",
    "        function for make connection to the db ( this is same db that we created with fake data)\n",
    "        \"\"\"\n",
    "        self.conn = sqlite3.connect(\"dummyDB1.db\")\n",
    "        self.cur = self.conn.cursor()\n",
    "        \n",
    "    def read_db_query(self, db_query):\n",
    "        \"\"\"\n",
    "        function for perform read db query on database\n",
    "        fetchall, fetchone are sqlite keywords to obtain data from database\n",
    "        \"\"\"\n",
    "        data = None\n",
    "        try:\n",
    "            self.get_connection()\n",
    "            self.cur.execute(db_query)\n",
    "            data = self.cur.fetchall()\n",
    "            self.conn.commit()\n",
    "            print(\"Data obtained successfully\")\n",
    "        except Exception as e:\n",
    "            print(e)\n",
    "        finally:\n",
    "            self.conn.close()\n",
    "        return data\n",
    "            \n",
    "    def delete_db_query(self, db_query):\n",
    "        \"\"\"\n",
    "        function for perform delete using db query on database\n",
    "        \"\"\"\n",
    "        try:\n",
    "            self.get_connection()\n",
    "            self.cur.execute(db_query)\n",
    "            self.conn.commit()\n",
    "            print(\"Data deleted successfully\")\n",
    "        except Exception as e:\n",
    "            print(e)\n",
    "        finally:\n",
    "            self.conn.close()\n",
    "    \n",
    "    def create_or_update_db_query(self, db_query):\n",
    "        \"\"\"\n",
    "        function for perform update or create using db query on database\n",
    "        \"\"\"\n",
    "        try:\n",
    "            self.get_connection()\n",
    "            self.cur.execute(db_query)\n",
    "            self.conn.commit()\n",
    "            print(\"Data created successfully\")\n",
    "        except Exception as e:\n",
    "            print(e)\n",
    "        finally:\n",
    "            self.conn.close()\n",
    "    "
   ]
  },
  {
   "cell_type": "code",
   "execution_count": 12,
   "metadata": {},
   "outputs": [],
   "source": [
    "db_test = BasicSqlOperations()"
   ]
  },
  {
   "cell_type": "code",
   "execution_count": 13,
   "metadata": {},
   "outputs": [],
   "source": [
    "db_test.get_connection()"
   ]
  },
  {
   "cell_type": "markdown",
   "metadata": {},
   "source": [
    "## list all tables using sqlite3"
   ]
  },
  {
   "cell_type": "code",
   "execution_count": 28,
   "metadata": {},
   "outputs": [],
   "source": [
    "query_4_get_table_name  = \"SELECT name FROM sqlite_master WHERE type='table';\""
   ]
  },
  {
   "cell_type": "code",
   "execution_count": 31,
   "metadata": {},
   "outputs": [
    {
     "name": "stdout",
     "output_type": "stream",
     "text": [
      "Data obtained successfully\n"
     ]
    }
   ],
   "source": [
    "tables = db_test.read_db_query(query_4_get_table_name)"
   ]
  },
  {
   "cell_type": "code",
   "execution_count": 32,
   "metadata": {},
   "outputs": [
    {
     "data": {
      "text/plain": [
       "[('Employees',), ('sqlite_sequence',)]"
      ]
     },
     "execution_count": 32,
     "metadata": {},
     "output_type": "execute_result"
    }
   ],
   "source": [
    "tables"
   ]
  },
  {
   "cell_type": "markdown",
   "metadata": {},
   "source": [
    "## geting deatils about table "
   ]
  },
  {
   "cell_type": "code",
   "execution_count": 139,
   "metadata": {},
   "outputs": [],
   "source": [
    "table_description_query = \"\"\"\n",
    "                            SELECT sql \n",
    "                            FROM sqlite_master \n",
    "                            WHERE name = 'Employees';\n",
    "                          \"\"\""
   ]
  },
  {
   "cell_type": "code",
   "execution_count": 140,
   "metadata": {},
   "outputs": [
    {
     "name": "stdout",
     "output_type": "stream",
     "text": [
      "Data obtained successfully\n"
     ]
    },
    {
     "data": {
      "text/plain": [
       "[('CREATE TABLE Employees (\\n                    Id INTEGER PRIMARY KEY AUTOINCREMENT,\\n                    Fname VARCHAR(55) NOT NULL,\\n                    Lname VARCHAR(55) NOT NULL,\\n                    Phone VARCHAR(20),\\n                    City VARCHAR(30),\\n                    Country VARCHAR(50),\\n                    Continent VARCHAR(50),\\n                    Salary INT NOT NULL\\n                )',)]"
      ]
     },
     "execution_count": 140,
     "metadata": {},
     "output_type": "execute_result"
    }
   ],
   "source": [
    "db_test.read_db_query(table_description_query)"
   ]
  },
  {
   "cell_type": "markdown",
   "metadata": {},
   "source": [
    "## simple reading using SQL SELECT"
   ]
  },
  {
   "cell_type": "code",
   "execution_count": 37,
   "metadata": {},
   "outputs": [],
   "source": [
    "sql_for_select_first_name = \" SELECT Fname FROM Employees\""
   ]
  },
  {
   "cell_type": "code",
   "execution_count": 38,
   "metadata": {},
   "outputs": [
    {
     "name": "stdout",
     "output_type": "stream",
     "text": [
      "Data obtained successfully\n"
     ]
    }
   ],
   "source": [
    "all_first_names = db_test.read_db_query(sql_for_select_first_name)"
   ]
  },
  {
   "cell_type": "code",
   "execution_count": 39,
   "metadata": {},
   "outputs": [
    {
     "data": {
      "text/plain": [
       "[('Anthony',),\n",
       " ('Tina',),\n",
       " ('Richard',),\n",
       " ('Charles',),\n",
       " ('Carlos',),\n",
       " ('Jill',),\n",
       " ('Kelsey',),\n",
       " ('Rebecca',),\n",
       " ('Brandon',),\n",
       " ('Lisa',),\n",
       " ('Jeffery',),\n",
       " ('Brett',),\n",
       " ('Jodi',),\n",
       " ('Robert',),\n",
       " ('Margaret',),\n",
       " ('Sonya',),\n",
       " ('Christina',),\n",
       " ('Kelly',),\n",
       " ('Jacqueline',),\n",
       " ('Nathan',),\n",
       " ('Stephanie',),\n",
       " ('Bradley',),\n",
       " ('Jose',),\n",
       " ('Kathryn',),\n",
       " ('Maria',),\n",
       " ('Madison',),\n",
       " ('Aaron',),\n",
       " ('Jeremy',),\n",
       " ('Miranda',),\n",
       " ('Tina',),\n",
       " ('Melanie',),\n",
       " ('Barbara',),\n",
       " ('Jessica',),\n",
       " ('Stacy',),\n",
       " ('Nathan',),\n",
       " ('Brian',),\n",
       " ('Daniel',),\n",
       " ('Mckenzie',),\n",
       " ('Robert',),\n",
       " ('Catherine',),\n",
       " ('Benjamin',),\n",
       " ('Tanya',),\n",
       " ('Stacy',),\n",
       " ('Jesse',),\n",
       " ('Susan',),\n",
       " ('Michael',),\n",
       " ('Timothy',),\n",
       " ('Leah',),\n",
       " ('David',),\n",
       " ('Jerry',),\n",
       " ('Christopher',),\n",
       " ('Jason',),\n",
       " ('David',),\n",
       " ('Adrian',),\n",
       " ('Scott',),\n",
       " ('Sherry',),\n",
       " ('Jennifer',),\n",
       " ('John',),\n",
       " ('Joshua',),\n",
       " ('Diane',),\n",
       " ('Sandra',),\n",
       " ('Carlos',),\n",
       " ('Nicholas',),\n",
       " ('Dana',),\n",
       " ('Nicole',),\n",
       " ('Tiffany',),\n",
       " ('Cassie',),\n",
       " ('Joseph',),\n",
       " ('Ross',),\n",
       " ('James',),\n",
       " ('Jason',),\n",
       " ('Austin',),\n",
       " ('Claudia',),\n",
       " ('Paige',),\n",
       " ('Juan',),\n",
       " ('Jill',),\n",
       " ('Alexander',),\n",
       " ('Jason',),\n",
       " ('Misty',),\n",
       " ('Katherine',),\n",
       " ('Jose',),\n",
       " ('Candice',),\n",
       " ('Laura',),\n",
       " ('William',),\n",
       " ('Lindsey',),\n",
       " ('Kevin',),\n",
       " ('Joseph',),\n",
       " ('Amanda',),\n",
       " ('Debra',),\n",
       " ('Jeffrey',),\n",
       " ('Richard',),\n",
       " ('Monica',),\n",
       " ('Sophia',),\n",
       " ('Cindy',),\n",
       " ('Cassie',),\n",
       " ('William',),\n",
       " ('Ashley',),\n",
       " ('Stephen',),\n",
       " ('Amanda',),\n",
       " ('Karen',),\n",
       " ('Jodi',),\n",
       " ('Barry',),\n",
       " ('Christine',),\n",
       " ('Donald',),\n",
       " ('Nancy',),\n",
       " ('Kimberly',),\n",
       " ('Kristen',),\n",
       " ('Scott',),\n",
       " ('Charles',),\n",
       " ('Ann',),\n",
       " ('Randall',),\n",
       " ('Wayne',),\n",
       " ('Linda',),\n",
       " ('Matthew',),\n",
       " ('Alexis',),\n",
       " ('Daniel',),\n",
       " ('Travis',),\n",
       " ('David',),\n",
       " ('Courtney',),\n",
       " ('Miranda',),\n",
       " ('Justin',),\n",
       " ('Samantha',),\n",
       " ('Joel',),\n",
       " ('Andrew',),\n",
       " ('Jason',),\n",
       " ('Christine',),\n",
       " ('John',),\n",
       " ('Curtis',),\n",
       " ('Derek',),\n",
       " ('Carlos',),\n",
       " ('John',),\n",
       " ('Ronald',),\n",
       " ('Laurie',),\n",
       " ('William',),\n",
       " ('Xavier',),\n",
       " ('Mark',),\n",
       " ('Malik',),\n",
       " ('Felicia',),\n",
       " ('Alexis',),\n",
       " ('Sarah',),\n",
       " ('Vicki',),\n",
       " ('Daniel',),\n",
       " ('Kathleen',),\n",
       " ('Jennifer',),\n",
       " ('Morgan',),\n",
       " ('Howard',),\n",
       " ('John',),\n",
       " ('Vanessa',),\n",
       " ('Evelyn',),\n",
       " ('Paula',),\n",
       " ('William',),\n",
       " ('Elizabeth',),\n",
       " ('Natalie',),\n",
       " ('Theresa',),\n",
       " ('Daniel',),\n",
       " ('Russell',),\n",
       " ('Lynn',),\n",
       " ('Samuel',),\n",
       " ('Jeffrey',),\n",
       " ('Amanda',),\n",
       " ('Cindy',),\n",
       " ('Samantha',),\n",
       " ('Erin',),\n",
       " ('David',),\n",
       " ('Jeffrey',),\n",
       " ('Tina',),\n",
       " ('Benjamin',),\n",
       " ('Jonathan',),\n",
       " ('Ethan',),\n",
       " ('Angela',),\n",
       " ('Angela',),\n",
       " ('Cassidy',),\n",
       " ('Mckenzie',),\n",
       " ('Corey',),\n",
       " ('Joshua',),\n",
       " ('John',),\n",
       " ('Carolyn',),\n",
       " ('Sharon',),\n",
       " ('Ryan',),\n",
       " ('Sandra',),\n",
       " ('Mitchell',),\n",
       " ('Emily',),\n",
       " ('William',),\n",
       " ('Jordan',),\n",
       " ('Amanda',),\n",
       " ('Michael',),\n",
       " ('Brandy',),\n",
       " ('Brenda',),\n",
       " ('Gary',),\n",
       " ('Keith',),\n",
       " ('Adam',),\n",
       " ('Margaret',),\n",
       " ('William',),\n",
       " ('Erik',),\n",
       " ('Nicholas',),\n",
       " ('Monica',),\n",
       " ('Jeffrey',),\n",
       " ('Reginald',),\n",
       " ('Erin',),\n",
       " ('Stephen',),\n",
       " ('Richard',),\n",
       " ('Jessica',),\n",
       " ('Derek',),\n",
       " ('John',),\n",
       " ('Nicholas',),\n",
       " ('Melissa',),\n",
       " ('Lisa',),\n",
       " ('Sandra',),\n",
       " ('Timothy',),\n",
       " ('Dorothy',),\n",
       " ('Kevin',),\n",
       " ('Sarah',),\n",
       " ('Rebecca',),\n",
       " ('Jeff',),\n",
       " ('Joshua',),\n",
       " ('Jacob',),\n",
       " ('Matthew',),\n",
       " ('Amber',),\n",
       " ('Mark',),\n",
       " ('Shannon',),\n",
       " ('Edward',),\n",
       " ('James',),\n",
       " ('Melissa',),\n",
       " ('Daniel',),\n",
       " ('Crystal',),\n",
       " ('Deborah',),\n",
       " ('Jason',),\n",
       " ('Leah',),\n",
       " ('William',),\n",
       " ('Madeline',),\n",
       " ('Monica',),\n",
       " ('James',),\n",
       " ('Angela',),\n",
       " ('Steven',),\n",
       " ('Zachary',),\n",
       " ('Kristy',),\n",
       " ('Elizabeth',),\n",
       " ('Lisa',),\n",
       " ('Tina',),\n",
       " ('Jerry',),\n",
       " ('Dean',),\n",
       " ('Cindy',),\n",
       " ('Kathryn',),\n",
       " ('Amanda',),\n",
       " ('Valerie',),\n",
       " ('Wesley',),\n",
       " ('Kathryn',),\n",
       " ('Jimmy',),\n",
       " ('Daniel',),\n",
       " ('Julie',),\n",
       " ('Richard',),\n",
       " ('Scott',),\n",
       " ('Natalie',),\n",
       " ('Kevin',),\n",
       " ('Cheryl',),\n",
       " ('Penny',),\n",
       " ('Bruce',),\n",
       " ('Brittney',),\n",
       " ('Julie',),\n",
       " ('Cindy',),\n",
       " ('Samantha',),\n",
       " ('Rachel',),\n",
       " ('Jose',),\n",
       " ('Karen',),\n",
       " ('Michael',),\n",
       " ('Amanda',),\n",
       " ('Steven',),\n",
       " ('Michael',),\n",
       " ('Nathaniel',),\n",
       " ('Ashley',),\n",
       " ('Penny',),\n",
       " ('Paul',),\n",
       " ('Joseph',),\n",
       " ('Eric',),\n",
       " ('Tanya',),\n",
       " ('Carly',),\n",
       " ('Eric',),\n",
       " ('Lisa',),\n",
       " ('Brandon',),\n",
       " ('Christopher',),\n",
       " ('Lisa',),\n",
       " ('Charles',),\n",
       " ('Kevin',),\n",
       " ('Brian',),\n",
       " ('Sarah',),\n",
       " ('Edwin',),\n",
       " ('Donald',),\n",
       " ('Aaron',),\n",
       " ('Traci',),\n",
       " ('Jessica',),\n",
       " ('Anthony',),\n",
       " ('Ryan',),\n",
       " ('Frank',),\n",
       " ('Andrea',),\n",
       " ('Cameron',),\n",
       " ('Rachel',),\n",
       " ('Michelle',),\n",
       " ('Michelle',),\n",
       " ('David',),\n",
       " ('Bradley',),\n",
       " ('Patrick',),\n",
       " ('Bryan',),\n",
       " ('Taylor',),\n",
       " ('Thomas',),\n",
       " ('Julia',),\n",
       " ('Audrey',),\n",
       " ('Gabrielle',),\n",
       " ('Diamond',),\n",
       " ('Lori',),\n",
       " ('Melanie',),\n",
       " ('Brian',),\n",
       " ('Joseph',),\n",
       " ('Kimberly',),\n",
       " ('Teresa',),\n",
       " ('Andrew',),\n",
       " ('Mary',),\n",
       " ('Micheal',),\n",
       " ('Janet',),\n",
       " ('Michael',),\n",
       " ('Richard',),\n",
       " ('Michael',),\n",
       " ('Sarah',),\n",
       " ('Stacie',),\n",
       " ('Linda',),\n",
       " ('Wayne',),\n",
       " ('Bruce',),\n",
       " ('Joel',),\n",
       " ('Katherine',),\n",
       " ('Jennifer',),\n",
       " ('Jonathan',),\n",
       " ('Jill',),\n",
       " ('Corey',),\n",
       " ('James',),\n",
       " ('Taylor',),\n",
       " ('Jack',),\n",
       " ('Paula',),\n",
       " ('Samantha',),\n",
       " ('Emily',),\n",
       " ('Diane',),\n",
       " ('Ryan',),\n",
       " ('John',),\n",
       " ('Andrew',),\n",
       " ('Julie',),\n",
       " ('Henry',),\n",
       " ('William',),\n",
       " ('Brianna',),\n",
       " ('Jack',),\n",
       " ('Stephanie',),\n",
       " ('Lisa',),\n",
       " ('Teresa',),\n",
       " ('Felicia',),\n",
       " ('Stephen',),\n",
       " ('Miguel',),\n",
       " ('Jeremy',),\n",
       " ('Anthony',),\n",
       " ('Brian',),\n",
       " ('Dana',),\n",
       " ('Albert',),\n",
       " ('Chelsey',),\n",
       " ('Dustin',),\n",
       " ('Jennifer',),\n",
       " ('Michael',),\n",
       " ('Christopher',),\n",
       " ('Gina',),\n",
       " ('Alicia',),\n",
       " ('Valerie',),\n",
       " ('Madison',),\n",
       " ('William',),\n",
       " ('Ernest',),\n",
       " ('Diane',),\n",
       " ('Stephen',),\n",
       " ('Robert',),\n",
       " ('Janet',),\n",
       " ('Alan',),\n",
       " ('James',),\n",
       " ('Christopher',),\n",
       " ('Megan',),\n",
       " ('Ian',),\n",
       " ('Melissa',),\n",
       " ('Jerry',),\n",
       " ('Mary',),\n",
       " ('Vicki',),\n",
       " ('Michelle',),\n",
       " ('Sean',),\n",
       " ('Daniel',),\n",
       " ('Jodi',),\n",
       " ('Drew',),\n",
       " ('Nancy',),\n",
       " ('Dennis',),\n",
       " ('Linda',),\n",
       " ('Theresa',),\n",
       " ('Daniel',),\n",
       " ('Marie',),\n",
       " ('Phillip',),\n",
       " ('Jake',),\n",
       " ('Olivia',),\n",
       " ('Jerry',),\n",
       " ('Elizabeth',),\n",
       " ('James',),\n",
       " ('Cynthia',),\n",
       " ('Dustin',),\n",
       " ('Pamela',),\n",
       " ('Kayla',),\n",
       " ('Michelle',),\n",
       " ('Angela',),\n",
       " ('Daniel',),\n",
       " ('April',),\n",
       " ('Brett',),\n",
       " ('Daniel',),\n",
       " ('Joanna',),\n",
       " ('David',),\n",
       " ('Caleb',),\n",
       " ('Kathleen',),\n",
       " ('Stephanie',),\n",
       " ('Kayla',),\n",
       " ('Timothy',),\n",
       " ('Michele',),\n",
       " ('Dana',),\n",
       " ('John',),\n",
       " ('John',),\n",
       " ('Mark',),\n",
       " ('Charles',),\n",
       " ('Jessica',),\n",
       " ('Gregg',),\n",
       " ('Roger',),\n",
       " ('Sarah',),\n",
       " ('Autumn',),\n",
       " ('Randy',),\n",
       " ('Daniel',),\n",
       " ('Joseph',),\n",
       " ('Kenneth',),\n",
       " ('Natalie',),\n",
       " ('Michael',),\n",
       " ('Matthew',),\n",
       " ('Jessica',),\n",
       " ('Chelsea',),\n",
       " ('Brad',),\n",
       " ('Leslie',),\n",
       " ('Joseph',),\n",
       " ('Mary',),\n",
       " ('Wendy',),\n",
       " ('Emily',),\n",
       " ('Andrea',),\n",
       " ('Sean',),\n",
       " ('Jose',),\n",
       " ('Emily',),\n",
       " ('John',),\n",
       " ('Michael',),\n",
       " ('Robert',),\n",
       " ('Amy',),\n",
       " ('Nicole',),\n",
       " ('Benjamin',),\n",
       " ('Kimberly',),\n",
       " ('Alex',),\n",
       " ('Stephen',),\n",
       " ('John',),\n",
       " ('Kevin',),\n",
       " ('Joshua',),\n",
       " ('Sean',),\n",
       " ('Tammy',),\n",
       " ('Amanda',),\n",
       " ('Lisa',),\n",
       " ('Brett',),\n",
       " ('Derrick',),\n",
       " ('Shelby',),\n",
       " ('Carl',),\n",
       " ('Kimberly',),\n",
       " ('John',),\n",
       " ('Vincent',),\n",
       " ('Lisa',),\n",
       " ('Chad',),\n",
       " ('Brett',),\n",
       " ('Wendy',),\n",
       " ('Noah',),\n",
       " ('Reginald',),\n",
       " ('Cody',),\n",
       " ('Michelle',),\n",
       " ('Tracey',),\n",
       " ('Daniel',),\n",
       " ('Gerald',),\n",
       " ('Lori',),\n",
       " ('Brandon',),\n",
       " ('Manuel',),\n",
       " ('Paul',),\n",
       " ('Justin',),\n",
       " ('Carol',),\n",
       " ('Lorraine',),\n",
       " ('Kathleen',),\n",
       " ('Daniel',),\n",
       " ('Jessica',),\n",
       " ('Joseph',),\n",
       " ('Christina',),\n",
       " ('Gina',),\n",
       " ('Michelle',),\n",
       " ('Michael',),\n",
       " ('Bobby',),\n",
       " ('Patrick',),\n",
       " ('Lauren',),\n",
       " ('Joy',),\n",
       " ('Carl',),\n",
       " ('Ricky',),\n",
       " ('Christina',),\n",
       " ('Samantha',),\n",
       " ('Timothy',),\n",
       " ('Jessica',),\n",
       " ('Bradley',),\n",
       " ('Diana',),\n",
       " ('Tonya',),\n",
       " ('Robin',),\n",
       " ('Nicholas',),\n",
       " ('Anthony',),\n",
       " ('Melissa',),\n",
       " ('David',),\n",
       " ('Dale',),\n",
       " ('Mary',),\n",
       " ('Jason',),\n",
       " ('Shelia',),\n",
       " ('Angela',),\n",
       " ('Kelly',),\n",
       " ('Elizabeth',),\n",
       " ('Jessica',),\n",
       " ('Justin',),\n",
       " ('Amber',),\n",
       " ('Andres',),\n",
       " ('Angela',),\n",
       " ('Brett',),\n",
       " ('Deborah',),\n",
       " ('Elizabeth',),\n",
       " ('Laura',),\n",
       " ('Stephanie',),\n",
       " ('Douglas',),\n",
       " ('Heather',),\n",
       " ('Kelly',),\n",
       " ('Adrian',),\n",
       " ('Michelle',),\n",
       " ('Sean',),\n",
       " ('Melissa',),\n",
       " ('Ivan',),\n",
       " ('Lindsey',),\n",
       " ('Samuel',),\n",
       " ('Matthew',),\n",
       " ('Stephen',),\n",
       " ('Jason',),\n",
       " ('Brandon',),\n",
       " ('Lauren',),\n",
       " ('April',),\n",
       " ('Erica',),\n",
       " ('Carrie',),\n",
       " ('Gabrielle',),\n",
       " ('Gerald',),\n",
       " ('Joseph',),\n",
       " ('Erik',),\n",
       " ('Michael',),\n",
       " ('Steven',),\n",
       " ('Kristina',),\n",
       " ('Bryan',),\n",
       " ('Travis',),\n",
       " ('Bethany',),\n",
       " ('Michael',),\n",
       " ('Carlos',),\n",
       " ('Melinda',),\n",
       " ('Alexis',),\n",
       " ('Richard',),\n",
       " ('Paul',),\n",
       " ('William',),\n",
       " ('James',),\n",
       " ('Lisa',),\n",
       " ('Theresa',),\n",
       " ('Nicole',),\n",
       " ('Alexander',),\n",
       " ('Michael',),\n",
       " ('Brittany',),\n",
       " ('Amanda',),\n",
       " ('Erik',),\n",
       " ('Brenda',),\n",
       " ('Dale',),\n",
       " ('Amy',),\n",
       " ('Maria',),\n",
       " ('Joseph',),\n",
       " ('Jessica',),\n",
       " ('Rebecca',),\n",
       " ('Melissa',),\n",
       " ('Kenneth',),\n",
       " ('Kristin',),\n",
       " ('Jeffrey',),\n",
       " ('Christopher',),\n",
       " ('Sheila',),\n",
       " ('Eric',),\n",
       " ('Barbara',),\n",
       " ('Edward',),\n",
       " ('Kathleen',),\n",
       " ('Lori',),\n",
       " ('Patrick',),\n",
       " ('Michael',),\n",
       " ('Ruben',),\n",
       " ('Brandi',),\n",
       " ('Scott',),\n",
       " ('Bradley',),\n",
       " ('Melissa',),\n",
       " ('Jessica',),\n",
       " ('Virginia',),\n",
       " ('Carly',),\n",
       " ('Kenneth',),\n",
       " ('Dawn',),\n",
       " ('Kathryn',),\n",
       " ('Sarah',),\n",
       " ('Jonathan',),\n",
       " ('Michael',),\n",
       " ('Benjamin',),\n",
       " ('Frank',),\n",
       " ('Stephanie',),\n",
       " ('Isaac',),\n",
       " ('Matthew',),\n",
       " ('Robert',),\n",
       " ('Darius',),\n",
       " ('Alan',),\n",
       " ('Nicole',),\n",
       " ('John',),\n",
       " ('Sierra',),\n",
       " ('Jason',),\n",
       " ('Lauren',),\n",
       " ('Jessica',),\n",
       " ('Brian',),\n",
       " ('Stacie',),\n",
       " ('Michael',),\n",
       " ('Stephen',),\n",
       " ('Jennifer',),\n",
       " ('Alexis',),\n",
       " ('Darren',),\n",
       " ('Allen',),\n",
       " ('Patrick',),\n",
       " ('John',),\n",
       " ('Michael',),\n",
       " ('Debbie',),\n",
       " ('Kevin',),\n",
       " ('Lisa',),\n",
       " ('Lisa',),\n",
       " ('Richard',),\n",
       " ('Nicholas',),\n",
       " ('Paul',),\n",
       " ('Carrie',),\n",
       " ('Kristen',),\n",
       " ('Kevin',),\n",
       " ('Nicole',),\n",
       " ('Jocelyn',),\n",
       " ('Kathleen',),\n",
       " ('Hannah',),\n",
       " ('Darryl',),\n",
       " ('Jessica',),\n",
       " ('Kelly',),\n",
       " ('Michael',),\n",
       " ('Barbara',),\n",
       " ('Veronica',),\n",
       " ('Aaron',),\n",
       " ('Michelle',),\n",
       " ('Julie',),\n",
       " ('Desiree',),\n",
       " ('Justin',),\n",
       " ('Brandy',),\n",
       " ('Meredith',),\n",
       " ('Daniel',),\n",
       " ('Cindy',),\n",
       " ('Timothy',),\n",
       " ('Daniel',),\n",
       " ('Michael',),\n",
       " ('Heidi',),\n",
       " ('Christopher',),\n",
       " ('Kevin',),\n",
       " ('David',),\n",
       " ('Cindy',),\n",
       " ('Robert',),\n",
       " ('James',),\n",
       " ('Beverly',),\n",
       " ('Christina',),\n",
       " ('Ana',),\n",
       " ('Matthew',),\n",
       " ('Ashley',),\n",
       " ('Gina',),\n",
       " ('Pamela',),\n",
       " ('Connie',),\n",
       " ('Ellen',),\n",
       " ('Sydney',),\n",
       " ('Jessica',),\n",
       " ('Chris',),\n",
       " ('Brandy',),\n",
       " ('Nancy',),\n",
       " ('Jose',),\n",
       " ('Sandra',),\n",
       " ('Rita',),\n",
       " ('Derrick',),\n",
       " ('Danny',),\n",
       " ('Cory',),\n",
       " ('Morgan',),\n",
       " ('Faith',),\n",
       " ('Vincent',),\n",
       " ('Kaitlin',),\n",
       " ('Jose',),\n",
       " ('Edwin',),\n",
       " ('Jeffrey',),\n",
       " ('Andrea',),\n",
       " ('Tanya',),\n",
       " ('Mathew',),\n",
       " ('James',),\n",
       " ('Kent',),\n",
       " ('Paul',),\n",
       " ('Brittany',),\n",
       " ('Cody',),\n",
       " ('Zachary',),\n",
       " ('Stephen',),\n",
       " ('Christine',),\n",
       " ('Andrew',),\n",
       " ('Mary',),\n",
       " ('Jon',),\n",
       " ('Patrick',),\n",
       " ('Sherri',),\n",
       " ('Curtis',),\n",
       " ('Alexandra',),\n",
       " ('Elizabeth',),\n",
       " ('Kim',),\n",
       " ('Nicole',),\n",
       " ('Wyatt',),\n",
       " ('Charles',),\n",
       " ('Catherine',),\n",
       " ('Christina',),\n",
       " ('Michael',),\n",
       " ('Connie',),\n",
       " ('Kimberly',),\n",
       " ('Edwin',),\n",
       " ('Virginia',),\n",
       " ('Todd',),\n",
       " ('Rick',),\n",
       " ('Amanda',),\n",
       " ('Diana',),\n",
       " ('Troy',),\n",
       " ('Kenneth',),\n",
       " ('Daniel',),\n",
       " ('Jennifer',),\n",
       " ('Margaret',),\n",
       " ('Autumn',),\n",
       " ('Amber',),\n",
       " ('Todd',),\n",
       " ('Julie',),\n",
       " ('Meghan',),\n",
       " ('Jennifer',),\n",
       " ('Regina',),\n",
       " ('Jessica',),\n",
       " ('Dorothy',),\n",
       " ('Clifford',),\n",
       " ('Brenda',),\n",
       " ('Shane',),\n",
       " ('Craig',),\n",
       " ('Tracy',),\n",
       " ('Samantha',),\n",
       " ('Rebecca',),\n",
       " ('Laura',),\n",
       " ('Meghan',),\n",
       " ('Bonnie',),\n",
       " ('Jennifer',),\n",
       " ('Brittany',),\n",
       " ('Marc',),\n",
       " ('Monique',),\n",
       " ('Tyler',),\n",
       " ('Kevin',),\n",
       " ('Anthony',),\n",
       " ('Megan',),\n",
       " ('Jessica',),\n",
       " ('Paula',),\n",
       " ('Austin',),\n",
       " ('Taylor',),\n",
       " ('Joseph',),\n",
       " ('Emily',),\n",
       " ('Carlos',),\n",
       " ('Kelly',),\n",
       " ('Steven',),\n",
       " ('Brandon',),\n",
       " ('Frank',),\n",
       " ('Vincent',),\n",
       " ('Melinda',),\n",
       " ('Kayla',),\n",
       " ('Gabriel',),\n",
       " ('Danielle',),\n",
       " ('Eric',),\n",
       " ('Susan',),\n",
       " ('Alison',),\n",
       " ('Wanda',),\n",
       " ('Jessica',),\n",
       " ('Amanda',),\n",
       " ('Darren',),\n",
       " ('Micheal',),\n",
       " ('Katherine',),\n",
       " ('Tiffany',),\n",
       " ('Jerry',),\n",
       " ('Justin',),\n",
       " ('Anthony',),\n",
       " ('Kyle',),\n",
       " ('Joshua',),\n",
       " ('Amanda',),\n",
       " ('Donna',),\n",
       " ('Caroline',),\n",
       " ('Jeff',),\n",
       " ('Andre',),\n",
       " ('Keith',),\n",
       " ('Darrell',),\n",
       " ('Amy',),\n",
       " ('Mark',),\n",
       " ('Sean',),\n",
       " ('Rachel',),\n",
       " ('Michael',),\n",
       " ('Andrew',),\n",
       " ('Teresa',),\n",
       " ('Christopher',),\n",
       " ('Victoria',),\n",
       " ('Dawn',),\n",
       " ('Amy',),\n",
       " ('Emily',),\n",
       " ('Michael',),\n",
       " ('Christian',),\n",
       " ('Jonathan',),\n",
       " ('Lauren',),\n",
       " ('Shannon',),\n",
       " ('Kelly',),\n",
       " ('Maria',),\n",
       " ('Cory',),\n",
       " ('Zachary',),\n",
       " ('Kevin',),\n",
       " ('Tina',),\n",
       " ('Jackie',),\n",
       " ('Brandy',),\n",
       " ('Anthony',),\n",
       " ('Jessica',),\n",
       " ('Matthew',),\n",
       " ('Christopher',),\n",
       " ('Jerry',),\n",
       " ('Justin',),\n",
       " ('Deanna',),\n",
       " ('Jennifer',),\n",
       " ('Lauren',),\n",
       " ('Jessica',),\n",
       " ('Sandra',),\n",
       " ('Karen',),\n",
       " ('Marie',),\n",
       " ('Jeffrey',),\n",
       " ('Natalie',),\n",
       " ('Cindy',),\n",
       " ('John',),\n",
       " ('Todd',),\n",
       " ('Regina',),\n",
       " ('Cynthia',),\n",
       " ('Jessica',),\n",
       " ('Larry',),\n",
       " ('Julie',),\n",
       " ('Kristin',),\n",
       " ('Keith',),\n",
       " ('Alexandra',),\n",
       " ('Andrew',),\n",
       " ('Joshua',),\n",
       " ('Sierra',),\n",
       " ('Danielle',),\n",
       " ('Jasmine',),\n",
       " ('Matthew',),\n",
       " ('Jennifer',),\n",
       " ('Kenneth',),\n",
       " ('Wendy',),\n",
       " ('Adam',),\n",
       " ('Michael',),\n",
       " ('Manuel',),\n",
       " ('Dennis',),\n",
       " ('Alexis',),\n",
       " ('Zachary',),\n",
       " ('Michael',),\n",
       " ('Sara',),\n",
       " ('Jennifer',),\n",
       " ('James',),\n",
       " ('Rebecca',),\n",
       " ('Matthew',),\n",
       " ('Richard',),\n",
       " ('John',),\n",
       " ('Kevin',),\n",
       " ('Pamela',),\n",
       " ('William',),\n",
       " ('Robert',),\n",
       " ('Ashley',),\n",
       " ('Cody',),\n",
       " ('Angelica',),\n",
       " ('Jacqueline',),\n",
       " ('Sarah',),\n",
       " ('Alyssa',),\n",
       " ('Jennifer',),\n",
       " ('Melissa',),\n",
       " ('Brandon',),\n",
       " ('Daniel',),\n",
       " ('James',),\n",
       " ('Stephanie',),\n",
       " ('Ashley',),\n",
       " ('Kaitlyn',),\n",
       " ('Antonio',),\n",
       " ('Daniel',),\n",
       " ('Nancy',),\n",
       " ('Daniel',),\n",
       " ('Kristin',),\n",
       " ('Stephanie',),\n",
       " ('Samantha',),\n",
       " ('Connie',),\n",
       " ('Sarah',),\n",
       " ('Pamela',),\n",
       " ('John',),\n",
       " ('William',),\n",
       " ('Michael',),\n",
       " ('Pamela',),\n",
       " ('Tara',),\n",
       " ('Sarah',),\n",
       " ('Kevin',),\n",
       " ('Richard',),\n",
       " ('Ryan',),\n",
       " ('Matthew',),\n",
       " ('Michelle',),\n",
       " ('Sara',),\n",
       " ('Michael',),\n",
       " ('Sydney',),\n",
       " ('James',),\n",
       " ('Margaret',),\n",
       " ('Jenny',),\n",
       " ('Patrick',),\n",
       " ('Diane',),\n",
       " ('Mike',),\n",
       " ('Lacey',),\n",
       " ('Linda',),\n",
       " ('Brittney',),\n",
       " ('Natalie',),\n",
       " ('John',),\n",
       " ('Sarah',),\n",
       " ('Stacy',),\n",
       " ('Kerri',),\n",
       " ('Mathew',),\n",
       " ('Eric',),\n",
       " ('Michael',),\n",
       " ('Marilyn',),\n",
       " ('Jeffrey',),\n",
       " ('Lori',),\n",
       " ('Matthew',),\n",
       " ('Heather',),\n",
       " ('Anna',),\n",
       " ('Tina',),\n",
       " ('Jeremy',),\n",
       " ('Gregory',),\n",
       " ('Jim',),\n",
       " ('Rhonda',),\n",
       " ('Jeremy',),\n",
       " ('Ryan',),\n",
       " ('Robert',),\n",
       " ('Tracy',),\n",
       " ('Nathaniel',),\n",
       " ('Adam',),\n",
       " ('Diana',),\n",
       " ('Andrew',),\n",
       " ('Kelly',),\n",
       " ('Ronald',),\n",
       " ('Christina',),\n",
       " ('Erin',),\n",
       " ('Claudia',),\n",
       " ('Amy',),\n",
       " ('Michael',),\n",
       " ('Julie',),\n",
       " ('Gregory',),\n",
       " ('Cheryl',),\n",
       " ('Christopher',),\n",
       " ('Jennifer',),\n",
       " ('Chase',),\n",
       " ('Mitchell',),\n",
       " ('Anna',),\n",
       " ('Elizabeth',),\n",
       " ('Robert',),\n",
       " ('Edward',),\n",
       " ('Daniel',),\n",
       " ('Dawn',),\n",
       " ('Kimberly',),\n",
       " ('Kerri',),\n",
       " ('Mark',),\n",
       " ('John',),\n",
       " ('Taylor',),\n",
       " ('Megan',),\n",
       " ('Tony',),\n",
       " ('Robert',),\n",
       " ('Brandon',),\n",
       " ('Tina',),\n",
       " ('Ricardo',),\n",
       " ('Lisa',),\n",
       " ('Mark',),\n",
       " ('Steven',),\n",
       " ('Alyssa',),\n",
       " ('Michael',),\n",
       " ('Yvette',),\n",
       " ('Kathy',),\n",
       " ('Sarah',),\n",
       " ('Anthony',),\n",
       " ('Melvin',),\n",
       " ('Amanda',),\n",
       " ('Charles',),\n",
       " ('Jason',),\n",
       " ('Aaron',),\n",
       " ...]"
      ]
     },
     "execution_count": 39,
     "metadata": {},
     "output_type": "execute_result"
    }
   ],
   "source": [
    "all_first_names"
   ]
  },
  {
   "cell_type": "markdown",
   "metadata": {},
   "source": [
    "## select count using SQL COUNT"
   ]
  },
  {
   "cell_type": "code",
   "execution_count": 40,
   "metadata": {},
   "outputs": [],
   "source": [
    "sql_for_select_first_name_count = \" SELECT COUNT(Fname) FROM Employees\""
   ]
  },
  {
   "cell_type": "code",
   "execution_count": 41,
   "metadata": {},
   "outputs": [
    {
     "name": "stdout",
     "output_type": "stream",
     "text": [
      "Data obtained successfully\n"
     ]
    }
   ],
   "source": [
    "all_first_name_count = db_test.read_db_query(sql_for_select_first_name_count)"
   ]
  },
  {
   "cell_type": "code",
   "execution_count": 42,
   "metadata": {},
   "outputs": [
    {
     "data": {
      "text/plain": [
       "[(1001,)]"
      ]
     },
     "execution_count": 42,
     "metadata": {},
     "output_type": "execute_result"
    }
   ],
   "source": [
    "all_first_name_count"
   ]
  },
  {
   "cell_type": "markdown",
   "metadata": {},
   "source": [
    "## select unique Fname using SQL DISTINCT"
   ]
  },
  {
   "cell_type": "code",
   "execution_count": 44,
   "metadata": {},
   "outputs": [],
   "source": [
    "sql_for_select_unique_first_name_count = \" SELECT COUNT(DISTINCT Fname) FROM Employees\""
   ]
  },
  {
   "cell_type": "code",
   "execution_count": 45,
   "metadata": {},
   "outputs": [
    {
     "name": "stdout",
     "output_type": "stream",
     "text": [
      "Data obtained successfully\n"
     ]
    }
   ],
   "source": [
    "unique_first_name_count = db_test.read_db_query(sql_for_select_unique_first_name_count)"
   ]
  },
  {
   "cell_type": "code",
   "execution_count": 46,
   "metadata": {},
   "outputs": [
    {
     "data": {
      "text/plain": [
       "[(347,)]"
      ]
     },
     "execution_count": 46,
     "metadata": {},
     "output_type": "execute_result"
    }
   ],
   "source": [
    "unique_first_name_count"
   ]
  },
  {
   "cell_type": "markdown",
   "metadata": {},
   "source": [
    "## obtain data using conditions in SQL with WHERE syntax"
   ]
  },
  {
   "cell_type": "code",
   "execution_count": 47,
   "metadata": {},
   "outputs": [],
   "source": [
    "sql_for_salary_gt_100 = \" SELECT Fname, Phone, Country FROM Employees WHERE Salary > 100\""
   ]
  },
  {
   "cell_type": "code",
   "execution_count": 48,
   "metadata": {},
   "outputs": [
    {
     "name": "stdout",
     "output_type": "stream",
     "text": [
      "Data obtained successfully\n"
     ]
    }
   ],
   "source": [
    "highly_paid_people = db_test.read_db_query(sql_for_salary_gt_100)"
   ]
  },
  {
   "cell_type": "code",
   "execution_count": 49,
   "metadata": {},
   "outputs": [
    {
     "data": {
      "text/plain": [
       "[('Kelsey', '184-305-8027', 'El Salvador'),\n",
       " ('Brandon', '415-884-0386', 'Indonesia'),\n",
       " ('Jeffery', '841-133-8914x552', 'Niue'),\n",
       " ('Michael', '337.122.4350x5749', 'New Zealand'),\n",
       " ('Nicholas', '656.742.4629x87667', 'Bahrain'),\n",
       " ('Candice', '+1-223-415-9855x448', 'Burundi'),\n",
       " ('Christine', '8856854765', 'India'),\n",
       " ('Kristen', '832-375-3115x0646', 'Tanzania'),\n",
       " ('Randall', '001-485-492-8265', 'Morocco'),\n",
       " ('William', '8527875431', 'Uzbekistan'),\n",
       " ('Felicia', '770.442.5783', 'Bahrain'),\n",
       " ('Vicki', '707-106-7705x4098', 'Bouvet Island (Bouvetoya)'),\n",
       " ('Kathleen', '(056)215-3376x715', 'New Zealand'),\n",
       " ('Paula', '177-134-6619', 'Wallis and Futuna'),\n",
       " ('William', '999.815.4965x16969', 'Cayman Islands'),\n",
       " ('Amanda', '(555)114-8774x787', 'Tuvalu'),\n",
       " ('Mckenzie', '001-724-832-7614x499', 'Eritrea'),\n",
       " ('Ryan', '945.168.5527x45522', 'Belize'),\n",
       " ('Jordan', '001-653-406-7784x296', 'Nauru'),\n",
       " ('Adam', '140-646-0398x430', 'Zambia'),\n",
       " ('Stephen', '236-903-2806x59867', 'India'),\n",
       " ('Richard', '086-493-2120x868', 'Hungary'),\n",
       " ('Amber', '001-399-376-0669', 'Panama'),\n",
       " ('Jimmy', '+1-997-884-7676x24209', 'Lithuania'),\n",
       " ('Richard', '(687)028-7823x3894', 'Costa Rica'),\n",
       " ('Cindy', '606.427.1296x638', 'Mexico'),\n",
       " ('Steven', '(603)406-9768x6085', 'Kiribati'),\n",
       " ('Michael', '9798373771', 'Netherlands Antilles'),\n",
       " ('Jessica', '001-209-874-1418x004', 'Slovakia (Slovak Republic)'),\n",
       " ('Ryan', '(084)220-0912', 'Sweden'),\n",
       " ('Audrey', '(271)431-6410x7474', 'Myanmar'),\n",
       " ('Stacie', '+1-436-259-5039x802', 'Saint Barthelemy'),\n",
       " ('Jennifer', '+1-290-662-0434x2698', 'Benin'),\n",
       " ('Janet', '+1-917-086-3035', 'Dominica'),\n",
       " ('Megan', '455-833-2212x9320', 'Papua New Guinea'),\n",
       " ('Sean', '529.768.6784x925', 'Austria'),\n",
       " ('Theresa', '495.951.8305', 'French Polynesia'),\n",
       " ('Olivia', '001-141-478-3660x828', 'Poland'),\n",
       " ('Cynthia', '508.240.0300x15925', 'Reunion'),\n",
       " ('John', '519.142.7799', 'United States of America'),\n",
       " ('John', '(056)532-9673x8611', 'New Caledonia'),\n",
       " ('Autumn', '(062)252-4421x302', 'Guatemala'),\n",
       " ('Natalie', '+1-770-202-6659x9049', 'Italy'),\n",
       " ('Joshua', '(614)517-0676x0601', 'Benin'),\n",
       " ('Brandon', '(733)538-8025x9435', 'French Southern Territories'),\n",
       " ('Lorraine', '001-750-323-9318x806', 'Burkina Faso'),\n",
       " ('Gina', '001-082-641-5481x09122', 'Timor-Leste'),\n",
       " ('Michelle', '001-598-485-4275x74517', 'Panama'),\n",
       " ('Carl', '2585645755', 'Denmark'),\n",
       " ('Ricky', '(089)557-7478x9450', 'Korea'),\n",
       " ('David', '319.938.7293x344', 'Jordan'),\n",
       " ('Jason', '607.825.0328x80778', 'Germany'),\n",
       " ('Nicole', '536.227.8730', 'Central African Republic'),\n",
       " ('Michael', '(264)563-8346x20726', 'Western Sahara'),\n",
       " ('Michael', '001-265-804-7094x906', 'Namibia'),\n",
       " ('Virginia', '352.274.9672x165', 'Luxembourg'),\n",
       " ('Carly', '+1-163-441-6264x45815', 'Iraq'),\n",
       " ('Kristen', '686-766-5868', 'Korea'),\n",
       " ('Beverly', '253.548.4651x57631', 'Svalbard & Jan Mayen Islands'),\n",
       " ('Ashley', '+1-442-293-9657x5402', 'Norway'),\n",
       " ('Connie', '5796211757', 'Guyana'),\n",
       " ('Andrew', '338.329.2827', 'United Kingdom'),\n",
       " ('Charles', '(152)405-1866x3235', 'Pakistan'),\n",
       " ('Amanda', '(522)607-3371', 'Thailand'),\n",
       " ('Daniel', '001-197-691-2500x877', 'Burundi'),\n",
       " ('Brenda', '+1-415-592-5572x22143', 'Niue'),\n",
       " ('Rebecca', '989-699-2217x8220', 'Guinea-Bissau'),\n",
       " ('Monique', '(418)551-3283', 'Estonia'),\n",
       " ('Austin', '388.123.6937x00657', 'Sri Lanka'),\n",
       " ('Eric', '020.667.3872x5487', 'Maldives'),\n",
       " ('Kyle', '001-160-408-9594x9458', 'Suriname'),\n",
       " ('Jeff', '9875951032', 'Suriname'),\n",
       " ('Mark', '001-832-122-3968x8857', 'Indonesia'),\n",
       " ('Sean', '7424684562', 'Kuwait'),\n",
       " ('Jonathan', '633-793-5563x7126', 'Albania'),\n",
       " ('Tina', '7091298877', 'Montenegro'),\n",
       " ('Jessica', '380.237.6870x24334', 'Uganda'),\n",
       " ('Julie', '159-775-3148x05587', 'Kuwait'),\n",
       " ('Alyssa', '001-101-349-6336', 'Finland'),\n",
       " ('Brandon', '178.812.1197x6149', 'British Virgin Islands'),\n",
       " ('Stephanie', '(203)309-7837', 'Grenada'),\n",
       " ('Eric', '(438)286-6495x35547', 'Jersey'),\n",
       " ('Tracy', '(090)346-2465x205', 'Romania'),\n",
       " ('Claudia', '648.522.5638x331', 'Albania'),\n",
       " ('Julie', '3859179758', 'Guatemala'),\n",
       " ('Steven', '193.031.6361', 'Faroe Islands'),\n",
       " ('Kathy', '(962)945-2738x1926', 'Burkina Faso')]"
      ]
     },
     "execution_count": 49,
     "metadata": {},
     "output_type": "execute_result"
    }
   ],
   "source": [
    "highly_paid_people"
   ]
  },
  {
   "cell_type": "markdown",
   "metadata": {},
   "source": [
    "## obtain data using multiple conditions in SQL with WHERE , AND, OR syntax"
   ]
  },
  {
   "cell_type": "code",
   "execution_count": 54,
   "metadata": {},
   "outputs": [],
   "source": [
    "sql_for_salary_gt_100_from_india = \"\"\"\n",
    "                                   SELECT Fname, Phone, Country FROM Employees \n",
    "                                   WHERE Salary > 100 AND Country='India'\n",
    "                                   \"\"\" "
   ]
  },
  {
   "cell_type": "code",
   "execution_count": 55,
   "metadata": {},
   "outputs": [
    {
     "name": "stdout",
     "output_type": "stream",
     "text": [
      "Data obtained successfully\n"
     ]
    }
   ],
   "source": [
    "highly_paid_people_in_india = db_test.read_db_query(sql_for_salary_gt_100_from_india)"
   ]
  },
  {
   "cell_type": "code",
   "execution_count": 56,
   "metadata": {},
   "outputs": [
    {
     "data": {
      "text/plain": [
       "[('Christine', '8856854765', 'India'),\n",
       " ('Stephen', '236-903-2806x59867', 'India')]"
      ]
     },
     "execution_count": 56,
     "metadata": {},
     "output_type": "execute_result"
    }
   ],
   "source": [
    "highly_paid_people_in_india"
   ]
  },
  {
   "cell_type": "code",
   "execution_count": 63,
   "metadata": {},
   "outputs": [],
   "source": [
    "sql_for_salary_gt_100_from_asia = \"\"\"\n",
    "                                   SELECT Fname, Phone, Country, Salary FROM Employees \n",
    "                                   WHERE Salary > 100 \n",
    "                                   AND \n",
    "                                   (Country='India'\n",
    "                                   OR Continent='AS')\n",
    "                                   \"\"\" "
   ]
  },
  {
   "cell_type": "code",
   "execution_count": 64,
   "metadata": {},
   "outputs": [
    {
     "name": "stdout",
     "output_type": "stream",
     "text": [
      "Data obtained successfully\n"
     ]
    }
   ],
   "source": [
    "highly_paid_people_in_asia = db_test.read_db_query(sql_for_salary_gt_100_from_asia)"
   ]
  },
  {
   "cell_type": "code",
   "execution_count": 65,
   "metadata": {},
   "outputs": [
    {
     "data": {
      "text/plain": [
       "[('Brandon', '415-884-0386', 'Indonesia', 105),\n",
       " ('Nicholas', '656.742.4629x87667', 'Bahrain', 105),\n",
       " ('Christine', '8856854765', 'India', 105),\n",
       " ('William', '8527875431', 'Uzbekistan', 105),\n",
       " ('Felicia', '770.442.5783', 'Bahrain', 105),\n",
       " ('Stephen', '236-903-2806x59867', 'India', 105),\n",
       " ('Audrey', '(271)431-6410x7474', 'Myanmar', 105),\n",
       " ('David', '319.938.7293x344', 'Jordan', 105),\n",
       " ('Carly', '+1-163-441-6264x45815', 'Iraq', 105),\n",
       " ('Charles', '(152)405-1866x3235', 'Pakistan', 105),\n",
       " ('Amanda', '(522)607-3371', 'Thailand', 105),\n",
       " ('Austin', '388.123.6937x00657', 'Sri Lanka', 105),\n",
       " ('Eric', '020.667.3872x5487', 'Maldives', 105),\n",
       " ('Mark', '001-832-122-3968x8857', 'Indonesia', 105),\n",
       " ('Sean', '7424684562', 'Kuwait', 105),\n",
       " ('Julie', '159-775-3148x05587', 'Kuwait', 105)]"
      ]
     },
     "execution_count": 65,
     "metadata": {},
     "output_type": "execute_result"
    }
   ],
   "source": [
    "highly_paid_people_in_asia"
   ]
  },
  {
   "cell_type": "markdown",
   "metadata": {},
   "source": [
    "## Multiple where codition using IN statement"
   ]
  },
  {
   "cell_type": "code",
   "execution_count": 150,
   "metadata": {},
   "outputs": [],
   "source": [
    "sql_for_salary_gt_100_from_india_pakistana_sl= \"\"\"\n",
    "                                               SELECT Fname, Phone, Country FROM Employees \n",
    "                                               WHERE Salary > 100 AND \n",
    "                                               Country IN ('India', 'Pakistan', 'Sri Lanka')\n",
    "                                               \"\"\" "
   ]
  },
  {
   "cell_type": "code",
   "execution_count": 151,
   "metadata": {},
   "outputs": [
    {
     "name": "stdout",
     "output_type": "stream",
     "text": [
      "Data obtained successfully\n"
     ]
    },
    {
     "data": {
      "text/plain": [
       "[('Christine', '8856854765', 'India'),\n",
       " ('Stephen', '236-903-2806x59867', 'India'),\n",
       " ('Charles', '(152)405-1866x3235', 'Pakistan'),\n",
       " ('Austin', '388.123.6937x00657', 'Sri Lanka')]"
      ]
     },
     "execution_count": 151,
     "metadata": {},
     "output_type": "execute_result"
    }
   ],
   "source": [
    "db_test.read_db_query(sql_for_salary_gt_100_from_india_pakistana_sl)"
   ]
  },
  {
   "cell_type": "code",
   "execution_count": null,
   "metadata": {},
   "outputs": [],
   "source": []
  },
  {
   "cell_type": "markdown",
   "metadata": {},
   "source": [
    "## obtain data using startswith and endwith in sql with % syntax"
   ]
  },
  {
   "cell_type": "code",
   "execution_count": 78,
   "metadata": {},
   "outputs": [],
   "source": [
    "# starts with example\n",
    "sql_for_salary_gt_100_fname_startwith = \"\"\"\n",
    "                                       SELECT Fname, Phone, Country FROM Employees \n",
    "                                       WHERE Salary > 100 \n",
    "                                       AND \n",
    "                                       Fname LIKE 'MI%'\n",
    "                                       \"\"\" "
   ]
  },
  {
   "cell_type": "code",
   "execution_count": 79,
   "metadata": {},
   "outputs": [
    {
     "name": "stdout",
     "output_type": "stream",
     "text": [
      "Data obtained successfully\n"
     ]
    }
   ],
   "source": [
    "highly_paid_people_Fname_startwith = db_test.read_db_query(sql_for_salary_gt_100_fname_startwith)"
   ]
  },
  {
   "cell_type": "code",
   "execution_count": 80,
   "metadata": {},
   "outputs": [
    {
     "data": {
      "text/plain": [
       "[('Michael', '337.122.4350x5749', 'New Zealand'),\n",
       " ('Michael', '9798373771', 'Netherlands Antilles'),\n",
       " ('Michelle', '001-598-485-4275x74517', 'Panama'),\n",
       " ('Michael', '(264)563-8346x20726', 'Western Sahara'),\n",
       " ('Michael', '001-265-804-7094x906', 'Namibia')]"
      ]
     },
     "execution_count": 80,
     "metadata": {},
     "output_type": "execute_result"
    }
   ],
   "source": [
    "highly_paid_people_Fname_startwith"
   ]
  },
  {
   "cell_type": "code",
   "execution_count": 81,
   "metadata": {},
   "outputs": [],
   "source": [
    "# ends with example\n",
    "sql_for_salary_gt_100_fname_endswith = \"\"\"\n",
    "                                       SELECT Fname, Phone, Country FROM Employees \n",
    "                                       WHERE Salary > 100 \n",
    "                                       AND \n",
    "                                       Fname LIKE '%ly'\n",
    "                                       \"\"\" "
   ]
  },
  {
   "cell_type": "code",
   "execution_count": 82,
   "metadata": {},
   "outputs": [
    {
     "name": "stdout",
     "output_type": "stream",
     "text": [
      "Data obtained successfully\n"
     ]
    }
   ],
   "source": [
    "highly_paid_people_Fname_endswith = db_test.read_db_query(sql_for_salary_gt_100_fname_endswith)"
   ]
  },
  {
   "cell_type": "code",
   "execution_count": 84,
   "metadata": {},
   "outputs": [
    {
     "data": {
      "text/plain": [
       "[('Carly', '+1-163-441-6264x45815', 'Iraq'),\n",
       " ('Beverly', '253.548.4651x57631', 'Svalbard & Jan Mayen Islands')]"
      ]
     },
     "execution_count": 84,
     "metadata": {},
     "output_type": "execute_result"
    }
   ],
   "source": [
    "highly_paid_people_Fname_endswith"
   ]
  },
  {
   "cell_type": "code",
   "execution_count": 85,
   "metadata": {},
   "outputs": [],
   "source": [
    "# contains with example\n",
    "sql_for_salary_gt_100_fname_contains = \"\"\"\n",
    "                                       SELECT Fname, Phone, Country FROM Employees \n",
    "                                       WHERE Salary > 100 \n",
    "                                       AND \n",
    "                                       Fname LIKE '%ri%'\n",
    "                                       \"\"\" "
   ]
  },
  {
   "cell_type": "code",
   "execution_count": 87,
   "metadata": {},
   "outputs": [
    {
     "name": "stdout",
     "output_type": "stream",
     "text": [
      "Data obtained successfully\n"
     ]
    }
   ],
   "source": [
    "highly_paid_people_Fname_contains = db_test.read_db_query(sql_for_salary_gt_100_fname_contains)"
   ]
  },
  {
   "cell_type": "code",
   "execution_count": 89,
   "metadata": {},
   "outputs": [
    {
     "data": {
      "text/plain": [
       "[('Christine', '8856854765', 'India'),\n",
       " ('Kristen', '832-375-3115x0646', 'Tanzania'),\n",
       " ('Richard', '086-493-2120x868', 'Hungary'),\n",
       " ('Richard', '(687)028-7823x3894', 'Costa Rica'),\n",
       " ('Ricky', '(089)557-7478x9450', 'Korea'),\n",
       " ('Kristen', '686-766-5868', 'Korea'),\n",
       " ('Eric', '020.667.3872x5487', 'Maldives'),\n",
       " ('Eric', '(438)286-6495x35547', 'Jersey')]"
      ]
     },
     "execution_count": 89,
     "metadata": {},
     "output_type": "execute_result"
    }
   ],
   "source": [
    "highly_paid_people_Fname_contains"
   ]
  },
  {
   "cell_type": "markdown",
   "metadata": {},
   "source": [
    "## Sorting and limiting in sql with  ORDER and LIMIT Syntax"
   ]
  },
  {
   "cell_type": "code",
   "execution_count": 96,
   "metadata": {},
   "outputs": [],
   "source": [
    "sql_for_select_first_name_sort_and_limit = \"\"\" \n",
    "                                            SELECT Fname, Phone, Country, Salary FROM Employees \n",
    "                                            ORDER BY Fname \n",
    "                                            LIMIT 10\"\"\""
   ]
  },
  {
   "cell_type": "code",
   "execution_count": 97,
   "metadata": {},
   "outputs": [
    {
     "name": "stdout",
     "output_type": "stream",
     "text": [
      "Data obtained successfully\n"
     ]
    }
   ],
   "source": [
    "sql_for_select_first_name_sort_and_limit_data = db_test.read_db_query(\n",
    "                                                sql_for_select_first_name_sort_and_limit)"
   ]
  },
  {
   "cell_type": "code",
   "execution_count": 98,
   "metadata": {},
   "outputs": [
    {
     "data": {
      "text/plain": [
       "[('Aaron', '109.476.7571x957', 'Nauru', 75),\n",
       " ('Aaron', '018.132.0050', 'Netherlands', 55),\n",
       " ('Aaron', '140.804.3930x325', 'Cook Islands', 50),\n",
       " ('Aaron', '724.893.0219', \"Cote d'Ivoire\", 75),\n",
       " ('Adam', '140-646-0398x430', 'Zambia', 105),\n",
       " ('Adam', '+1-596-695-8492x917', 'Canada', 70),\n",
       " ('Adam', '+1-688-492-7371', 'Puerto Rico', 75),\n",
       " ('Adrian', '(734)632-8427', 'Slovakia (Slovak Republic)', 50),\n",
       " ('Adrian', '+1-692-372-9589x060', 'Korea', 100),\n",
       " ('Alan', '(781)718-1397x445', 'Solomon Islands', 80)]"
      ]
     },
     "execution_count": 98,
     "metadata": {},
     "output_type": "execute_result"
    }
   ],
   "source": [
    "sql_for_select_first_name_sort_and_limit_data"
   ]
  },
  {
   "cell_type": "code",
   "execution_count": 122,
   "metadata": {},
   "outputs": [],
   "source": [
    "# sort by salary asc order\n",
    "sql_for_select_first_name_sort_by_salary_asc = \"\"\" \n",
    "                                            SELECT Id, Fname, Phone, Country, Salary FROM Employees \n",
    "                                            ORDER BY Salary \n",
    "                                            LIMIT 10\"\"\""
   ]
  },
  {
   "cell_type": "code",
   "execution_count": 123,
   "metadata": {},
   "outputs": [
    {
     "name": "stdout",
     "output_type": "stream",
     "text": [
      "Data obtained successfully\n"
     ]
    }
   ],
   "source": [
    "sql_for_select_first_name_sort_by_salary_asc_data = db_test.read_db_query(\n",
    "                                                sql_for_select_first_name_sort_by_salary_asc)"
   ]
  },
  {
   "cell_type": "code",
   "execution_count": 124,
   "metadata": {},
   "outputs": [
    {
     "data": {
      "text/plain": [
       "[(20, 'Nathan', '614-317-3290x155', 'Belize', 50),\n",
       " (35, 'Nathan', '001-031-901-6081x54127', 'Palau', 50),\n",
       " (38, 'Mckenzie', '001-045-871-9381x255', 'Myanmar', 50),\n",
       " (49, 'David', '001-162-394-7088x080', 'Cambodia', 50),\n",
       " (54, 'Adrian', '(734)632-8427', 'Slovakia (Slovak Republic)', 50),\n",
       " (57,\n",
       "  'Jennifer',\n",
       "  '(893)254-4435x7726',\n",
       "  'British Indian Ocean Territory (Chagos Archipelago)',\n",
       "  50),\n",
       " (105, 'Nancy', '(705)308-1902x9005', 'Korea', 50),\n",
       " (115, 'Alexis', '001-417-663-9218x347', 'Tajikistan', 50),\n",
       " (128, 'Curtis', '499.220.4986x579', 'Comoros', 50),\n",
       " (129, 'Derek', '(278)818-8178', 'Norfolk Island', 50)]"
      ]
     },
     "execution_count": 124,
     "metadata": {},
     "output_type": "execute_result"
    }
   ],
   "source": [
    "sql_for_select_first_name_sort_by_salary_asc_data"
   ]
  },
  {
   "cell_type": "code",
   "execution_count": 125,
   "metadata": {},
   "outputs": [],
   "source": [
    "# sort by salary dsc order\n",
    "sql_for_select_first_name_sort_by_salary_dsc = \"\"\" \n",
    "                                            SELECT Id, Fname, Phone, Country, Salary FROM Employees \n",
    "                                            ORDER BY -Salary \n",
    "                                            LIMIT 10\"\"\""
   ]
  },
  {
   "cell_type": "code",
   "execution_count": 126,
   "metadata": {},
   "outputs": [
    {
     "name": "stdout",
     "output_type": "stream",
     "text": [
      "Data obtained successfully\n"
     ]
    }
   ],
   "source": [
    "sql_for_select_first_name_sort_by_salary_dsc_data = db_test.read_db_query(\n",
    "                                                sql_for_select_first_name_sort_by_salary_dsc)"
   ]
  },
  {
   "cell_type": "code",
   "execution_count": 127,
   "metadata": {},
   "outputs": [
    {
     "data": {
      "text/plain": [
       "[(7, 'Kelsey', '184-305-8027', 'El Salvador', 105),\n",
       " (9, 'Brandon', '415-884-0386', 'Indonesia', 105),\n",
       " (11, 'Jeffery', '841-133-8914x552', 'Niue', 105),\n",
       " (46, 'Michael', '337.122.4350x5749', 'New Zealand', 105),\n",
       " (63, 'Nicholas', '656.742.4629x87667', 'Bahrain', 105),\n",
       " (82, 'Candice', '+1-223-415-9855x448', 'Burundi', 105),\n",
       " (103, 'Christine', '8856854765', 'India', 105),\n",
       " (107, 'Kristen', '832-375-3115x0646', 'Tanzania', 105),\n",
       " (111, 'Randall', '001-485-492-8265', 'Morocco', 105),\n",
       " (134, 'William', '8527875431', 'Uzbekistan', 105)]"
      ]
     },
     "execution_count": 127,
     "metadata": {},
     "output_type": "execute_result"
    }
   ],
   "source": [
    "sql_for_select_first_name_sort_by_salary_dsc_data"
   ]
  },
  {
   "cell_type": "markdown",
   "metadata": {},
   "source": [
    "## multiple sorting "
   ]
  },
  {
   "cell_type": "code",
   "execution_count": 128,
   "metadata": {},
   "outputs": [],
   "source": [
    "sql_for_select_first_name_sort_and_limit_multiple = \"\"\" \n",
    "                                                    SELECT Fname, Phone, Country, Salary FROM Employees \n",
    "                                                    ORDER BY Fname, Salary \n",
    "                                                    LIMIT 10\n",
    "                                                    \"\"\""
   ]
  },
  {
   "cell_type": "code",
   "execution_count": 129,
   "metadata": {},
   "outputs": [
    {
     "name": "stdout",
     "output_type": "stream",
     "text": [
      "Data obtained successfully\n"
     ]
    }
   ],
   "source": [
    "sql_for_select_first_name_sort_and_limit_multiple_data = db_test.read_db_query(\n",
    "                                                sql_for_select_first_name_sort_and_limit_multiple)"
   ]
  },
  {
   "cell_type": "code",
   "execution_count": 130,
   "metadata": {},
   "outputs": [
    {
     "data": {
      "text/plain": [
       "[('Aaron', '140.804.3930x325', 'Cook Islands', 50),\n",
       " ('Aaron', '018.132.0050', 'Netherlands', 55),\n",
       " ('Aaron', '109.476.7571x957', 'Nauru', 75),\n",
       " ('Aaron', '724.893.0219', \"Cote d'Ivoire\", 75),\n",
       " ('Adam', '+1-596-695-8492x917', 'Canada', 70),\n",
       " ('Adam', '+1-688-492-7371', 'Puerto Rico', 75),\n",
       " ('Adam', '140-646-0398x430', 'Zambia', 105),\n",
       " ('Adrian', '(734)632-8427', 'Slovakia (Slovak Republic)', 50),\n",
       " ('Adrian', '+1-692-372-9589x060', 'Korea', 100),\n",
       " ('Alan', '(781)718-1397x445', 'Solomon Islands', 80)]"
      ]
     },
     "execution_count": 130,
     "metadata": {},
     "output_type": "execute_result"
    }
   ],
   "source": [
    "sql_for_select_first_name_sort_and_limit_multiple_data"
   ]
  },
  {
   "cell_type": "markdown",
   "metadata": {},
   "source": [
    "## Agregate operations AVG, MAX, MIN"
   ]
  },
  {
   "cell_type": "code",
   "execution_count": 145,
   "metadata": {},
   "outputs": [
    {
     "name": "stdout",
     "output_type": "stream",
     "text": [
      "Data obtained successfully\n"
     ]
    },
    {
     "data": {
      "text/plain": [
       "[(105, 'Kelsey', '184-305-8027', 'El Salvador')]"
      ]
     },
     "execution_count": 145,
     "metadata": {},
     "output_type": "execute_result"
    }
   ],
   "source": [
    "db_test.read_db_query(\"SELECT MAX(Salary) Id, Fname, Phone, Country FROM Employees \")"
   ]
  },
  {
   "cell_type": "code",
   "execution_count": 146,
   "metadata": {},
   "outputs": [
    {
     "name": "stdout",
     "output_type": "stream",
     "text": [
      "Data obtained successfully\n"
     ]
    },
    {
     "data": {
      "text/plain": [
       "[(50, 'Nathan', '614-317-3290x155', 'Belize')]"
      ]
     },
     "execution_count": 146,
     "metadata": {},
     "output_type": "execute_result"
    }
   ],
   "source": [
    "db_test.read_db_query(\"SELECT MIN(Salary) Id, Fname, Phone, Country FROM Employees \")"
   ]
  },
  {
   "cell_type": "code",
   "execution_count": 148,
   "metadata": {},
   "outputs": [
    {
     "name": "stdout",
     "output_type": "stream",
     "text": [
      "Data obtained successfully\n"
     ]
    },
    {
     "data": {
      "text/plain": [
       "[(77.71728271728271,)]"
      ]
     },
     "execution_count": 148,
     "metadata": {},
     "output_type": "execute_result"
    }
   ],
   "source": [
    "db_test.read_db_query(\"SELECT AVG(Salary) FROM Employees\")"
   ]
  },
  {
   "cell_type": "code",
   "execution_count": null,
   "metadata": {},
   "outputs": [],
   "source": []
  },
  {
   "cell_type": "markdown",
   "metadata": {},
   "source": [
    "## practical implementaion of GroupBy in sql"
   ]
  },
  {
   "cell_type": "code",
   "execution_count": 164,
   "metadata": {},
   "outputs": [],
   "source": [
    "# counting number of people continent wise\n",
    "sql_for_groupby_continentwise = \"\"\"\n",
    "                                               SELECT Continent, COUNT(*) \n",
    "                                               FROM Employees \n",
    "                                               GROUP BY Continent\n",
    "                                               \"\"\" "
   ]
  },
  {
   "cell_type": "code",
   "execution_count": 165,
   "metadata": {},
   "outputs": [
    {
     "name": "stdout",
     "output_type": "stream",
     "text": [
      "Data obtained successfully\n"
     ]
    },
    {
     "data": {
      "text/plain": [
       "[('AF', 219),\n",
       " ('AN', 2),\n",
       " ('AS', 191),\n",
       " ('EU', 279),\n",
       " ('NA', 152),\n",
       " ('OC', 101),\n",
       " ('SA', 57)]"
      ]
     },
     "execution_count": 165,
     "metadata": {},
     "output_type": "execute_result"
    }
   ],
   "source": [
    "db_test.read_db_query(sql_for_groupby_continentwise)"
   ]
  },
  {
   "cell_type": "code",
   "execution_count": 166,
   "metadata": {},
   "outputs": [],
   "source": [
    "sql_for_groupby_countrywise = \"\"\"\n",
    "                               SELECT Country, COUNT(*) \n",
    "                               FROM Employees \n",
    "                               GROUP BY Country\n",
    "                               \"\"\" "
   ]
  },
  {
   "cell_type": "code",
   "execution_count": 167,
   "metadata": {},
   "outputs": [
    {
     "name": "stdout",
     "output_type": "stream",
     "text": [
      "Data obtained successfully\n"
     ]
    },
    {
     "data": {
      "text/plain": [
       "[('Afghanistan', 3),\n",
       " ('Albania', 7),\n",
       " ('Algeria', 3),\n",
       " ('American Samoa', 3),\n",
       " ('Andorra', 5),\n",
       " ('Angola', 4),\n",
       " ('Anguilla', 4),\n",
       " ('Antarctica (the territory South of 60 deg S)', 4),\n",
       " ('Antigua and Barbuda', 4),\n",
       " ('Argentina', 2),\n",
       " ('Armenia', 5),\n",
       " ('Aruba', 4),\n",
       " ('Australia', 5),\n",
       " ('Austria', 5),\n",
       " ('Azerbaijan', 4),\n",
       " ('Bahamas', 5),\n",
       " ('Bahrain', 4),\n",
       " ('Bangladesh', 4),\n",
       " ('Barbados', 2),\n",
       " ('Belarus', 3),\n",
       " ('Belgium', 2),\n",
       " ('Belize', 5),\n",
       " ('Benin', 7),\n",
       " ('Bermuda', 4),\n",
       " ('Bhutan', 2),\n",
       " ('Bolivia', 1),\n",
       " ('Bosnia and Herzegovina', 4),\n",
       " ('Botswana', 2),\n",
       " ('Bouvet Island (Bouvetoya)', 3),\n",
       " ('Brazil', 3),\n",
       " ('British Indian Ocean Territory (Chagos Archipelago)', 2),\n",
       " ('British Virgin Islands', 5),\n",
       " ('Bulgaria', 3),\n",
       " ('Burkina Faso', 7),\n",
       " ('Burundi', 6),\n",
       " ('Cambodia', 3),\n",
       " ('Cameroon', 3),\n",
       " ('Canada', 4),\n",
       " ('Cape Verde', 2),\n",
       " ('Cayman Islands', 4),\n",
       " ('Central African Republic', 7),\n",
       " ('Chad', 4),\n",
       " ('Chile', 1),\n",
       " ('China', 4),\n",
       " ('Christmas Island', 7),\n",
       " ('Cocos (Keeling) Islands', 3),\n",
       " ('Colombia', 8),\n",
       " ('Comoros', 5),\n",
       " ('Congo', 10),\n",
       " ('Cook Islands', 5),\n",
       " ('Costa Rica', 7),\n",
       " (\"Cote d'Ivoire\", 6),\n",
       " ('Croatia', 6),\n",
       " ('Cuba', 2),\n",
       " ('Cyprus', 3),\n",
       " ('Czech Republic', 5),\n",
       " ('Denmark', 3),\n",
       " ('Djibouti', 5),\n",
       " ('Dominica', 4),\n",
       " ('Dominican Republic', 2),\n",
       " ('Ecuador', 3),\n",
       " ('Egypt', 5),\n",
       " ('El Salvador', 4),\n",
       " ('Equatorial Guinea', 1),\n",
       " ('Eritrea', 8),\n",
       " ('Estonia', 2),\n",
       " ('Ethiopia', 4),\n",
       " ('Falkland Islands (Malvinas)', 5),\n",
       " ('Faroe Islands', 5),\n",
       " ('Fiji', 1),\n",
       " ('Finland', 5),\n",
       " ('France', 2),\n",
       " ('French Guiana', 2),\n",
       " ('French Polynesia', 3),\n",
       " ('French Southern Territories', 3),\n",
       " ('Gabon', 2),\n",
       " ('Gambia', 5),\n",
       " ('Georgia', 2),\n",
       " ('Germany', 6),\n",
       " ('Ghana', 4),\n",
       " ('Gibraltar', 4),\n",
       " ('Greece', 2),\n",
       " ('Greenland', 2),\n",
       " ('Grenada', 9),\n",
       " ('Guadeloupe', 4),\n",
       " ('Guam', 2),\n",
       " ('Guatemala', 3),\n",
       " ('Guernsey', 6),\n",
       " ('Guinea', 5),\n",
       " ('Guinea-Bissau', 4),\n",
       " ('Guyana', 5),\n",
       " ('Haiti', 4),\n",
       " ('Heard Island and McDonald Islands', 2),\n",
       " ('Holy See (Vatican City State)', 6),\n",
       " ('Honduras', 3),\n",
       " ('Hong Kong', 4),\n",
       " ('Hungary', 8),\n",
       " ('Iceland', 1),\n",
       " ('India', 12),\n",
       " ('Indonesia', 5),\n",
       " ('Iran', 5),\n",
       " ('Iraq', 4),\n",
       " ('Ireland', 2),\n",
       " ('Isle of Man', 2),\n",
       " ('Israel', 4),\n",
       " ('Italy', 5),\n",
       " ('Jamaica', 6),\n",
       " ('Japan', 3),\n",
       " ('Jersey', 3),\n",
       " ('Jordan', 3),\n",
       " ('Kazakhstan', 4),\n",
       " ('Kenya', 6),\n",
       " ('Kiribati', 3),\n",
       " ('Korea', 11),\n",
       " ('Kuwait', 5),\n",
       " ('Kyrgyz Republic', 4),\n",
       " (\"Lao People's Democratic Republic\", 2),\n",
       " ('Latvia', 6),\n",
       " ('Lebanon', 2),\n",
       " ('Lesotho', 4),\n",
       " ('Liberia', 5),\n",
       " ('Libyan Arab Jamahiriya', 7),\n",
       " ('Liechtenstein', 4),\n",
       " ('Lithuania', 6),\n",
       " ('Luxembourg', 3),\n",
       " ('Macao', 2),\n",
       " ('Macedonia', 5),\n",
       " ('Madagascar', 8),\n",
       " ('Malawi', 4),\n",
       " ('Malaysia', 4),\n",
       " ('Maldives', 1),\n",
       " ('Mali', 5),\n",
       " ('Malta', 5),\n",
       " ('Marshall Islands', 6),\n",
       " ('Martinique', 4),\n",
       " ('Mauritania', 3),\n",
       " ('Mauritius', 2),\n",
       " ('Mayotte', 6),\n",
       " ('Mexico', 4),\n",
       " ('Micronesia', 5),\n",
       " ('Moldova', 4),\n",
       " ('Monaco', 6),\n",
       " ('Mongolia', 4),\n",
       " ('Montenegro', 4),\n",
       " ('Montserrat', 4),\n",
       " ('Morocco', 6),\n",
       " ('Mozambique', 5),\n",
       " ('Myanmar', 4),\n",
       " ('Namibia', 4),\n",
       " ('Nauru', 7),\n",
       " ('Nepal', 3),\n",
       " ('Netherlands', 5),\n",
       " ('Netherlands Antilles', 2),\n",
       " ('New Caledonia', 6),\n",
       " ('New Zealand', 7),\n",
       " ('Nicaragua', 6),\n",
       " ('Niger', 5),\n",
       " ('Nigeria', 3),\n",
       " ('Niue', 4),\n",
       " ('Norfolk Island', 5),\n",
       " ('Norway', 4),\n",
       " ('Oman', 1),\n",
       " ('Pakistan', 2),\n",
       " ('Palau', 7),\n",
       " ('Palestinian Territory', 3),\n",
       " ('Panama', 3),\n",
       " ('Papua New Guinea', 4),\n",
       " ('Paraguay', 3),\n",
       " ('Peru', 2),\n",
       " ('Philippines', 4),\n",
       " ('Pitcairn Islands', 3),\n",
       " ('Poland', 3),\n",
       " ('Portugal', 4),\n",
       " ('Puerto Rico', 5),\n",
       " ('Qatar', 4),\n",
       " ('Reunion', 3),\n",
       " ('Romania', 3),\n",
       " ('Russian Federation', 5),\n",
       " ('Rwanda', 3),\n",
       " ('Saint Barthelemy', 2),\n",
       " ('Saint Helena', 4),\n",
       " ('Saint Kitts and Nevis', 3),\n",
       " ('Saint Lucia', 5),\n",
       " ('Saint Martin', 5),\n",
       " ('Saint Pierre and Miquelon', 5),\n",
       " ('Saint Vincent and the Grenadines', 4),\n",
       " ('Samoa', 7),\n",
       " ('San Marino', 2),\n",
       " ('Saudi Arabia', 7),\n",
       " ('Senegal', 1),\n",
       " ('Serbia', 1),\n",
       " ('Seychelles', 3),\n",
       " ('Sierra Leone', 4),\n",
       " ('Singapore', 3),\n",
       " ('Slovakia (Slovak Republic)', 5),\n",
       " ('Slovenia', 4),\n",
       " ('Solomon Islands', 3),\n",
       " ('Somalia', 3),\n",
       " ('South Africa', 4),\n",
       " ('South Georgia and the South Sandwich Islands', 6),\n",
       " ('Spain', 4),\n",
       " ('Sri Lanka', 5),\n",
       " ('Sudan', 3),\n",
       " ('Suriname', 7),\n",
       " ('Svalbard & Jan Mayen Islands', 5),\n",
       " ('Swaziland', 1),\n",
       " ('Sweden', 5),\n",
       " ('Switzerland', 4),\n",
       " ('Syrian Arab Republic', 2),\n",
       " ('Taiwan', 3),\n",
       " ('Tajikistan', 6),\n",
       " ('Tanzania', 4),\n",
       " ('Thailand', 7),\n",
       " ('Timor-Leste', 8),\n",
       " ('Togo', 6),\n",
       " ('Tokelau', 4),\n",
       " ('Tonga', 2),\n",
       " ('Trinidad and Tobago', 2),\n",
       " ('Tunisia', 2),\n",
       " ('Turkey', 5),\n",
       " ('Turkmenistan', 6),\n",
       " ('Turks and Caicos Islands', 3),\n",
       " ('Tuvalu', 3),\n",
       " ('Uganda', 7),\n",
       " ('Ukraine', 4),\n",
       " ('United Arab Emirates', 4),\n",
       " ('United Kingdom', 3),\n",
       " ('United States Minor Outlying Islands', 4),\n",
       " ('United States Virgin Islands', 4),\n",
       " ('United States of America', 4),\n",
       " ('Uruguay', 5),\n",
       " ('Uzbekistan', 6),\n",
       " ('Vanuatu', 5),\n",
       " ('Venezuela', 4),\n",
       " ('Vietnam', 1),\n",
       " ('Wallis and Futuna', 4),\n",
       " ('Western Sahara', 8),\n",
       " ('Yemen', 6),\n",
       " ('Zambia', 6),\n",
       " ('Zimbabwe', 3)]"
      ]
     },
     "execution_count": 167,
     "metadata": {},
     "output_type": "execute_result"
    }
   ],
   "source": [
    "# counting number of people contry wise\n",
    "\n",
    "db_test.read_db_query(sql_for_groupby_countrywise)"
   ]
  },
  {
   "cell_type": "markdown",
   "metadata": {},
   "source": [
    "## groupby with condititons"
   ]
  },
  {
   "cell_type": "code",
   "execution_count": 180,
   "metadata": {},
   "outputs": [],
   "source": [
    "sql_for_groupby_countrywise_gt_10 = \"\"\"\n",
    "                                   SELECT Country, COUNT(*) as num_people\n",
    "                                   FROM Employees \n",
    "                                   GROUP BY Country\n",
    "                                   HAVING num_people > 10\n",
    "                                   \"\"\" "
   ]
  },
  {
   "cell_type": "code",
   "execution_count": 182,
   "metadata": {},
   "outputs": [
    {
     "name": "stdout",
     "output_type": "stream",
     "text": [
      "Data obtained successfully\n"
     ]
    },
    {
     "data": {
      "text/plain": [
       "[('India', 12), ('Korea', 11)]"
      ]
     },
     "execution_count": 182,
     "metadata": {},
     "output_type": "execute_result"
    }
   ],
   "source": [
    "db_test.read_db_query(sql_for_groupby_countrywise_gt_10)"
   ]
  }
 ],
 "metadata": {
  "kernelspec": {
   "display_name": "Python 3",
   "language": "python",
   "name": "python3"
  },
  "language_info": {
   "codemirror_mode": {
    "name": "ipython",
    "version": 3
   },
   "file_extension": ".py",
   "mimetype": "text/x-python",
   "name": "python",
   "nbconvert_exporter": "python",
   "pygments_lexer": "ipython3",
   "version": "3.6.9"
  }
 },
 "nbformat": 4,
 "nbformat_minor": 4
}
